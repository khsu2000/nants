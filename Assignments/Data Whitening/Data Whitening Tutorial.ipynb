{
 "cells": [
  {
   "cell_type": "markdown",
   "metadata": {},
   "source": [
    "# Data Whitening #\n",
    "Data whitening is the process of applying a linear transformation to a dataset in order to transform the features into ones that are decorrolated and have identical variances. In the following assignment, we will walk you through some of the visualizations that you should have seen in the slides as well as see how data whitening works for images."
   ]
  },
  {
   "cell_type": "code",
   "execution_count": null,
   "metadata": {},
   "outputs": [],
   "source": [
    "import numpy as np\n",
    "import matplotlib.pyplot as plt\n",
    "import random"
   ]
  },
  {
   "cell_type": "markdown",
   "metadata": {},
   "source": [
    "First let us generate a dataset that we can use to visualize data whitening:"
   ]
  },
  {
   "cell_type": "code",
   "execution_count": null,
   "metadata": {},
   "outputs": [],
   "source": [
    "np.random.seed(1)\n",
    "mu = [1, 3]\n",
    "sigma = [[5, 3], [3, 5]]\n",
    "n = 1000\n",
    "x = np.random.multivariate_normal(mu, sigma, size=n).T\n",
    "set1 = np.argsort(np.linalg.norm(x, axis=0))[-20:]\n",
    "set2 = list(set(range(n))-set(set1))"
   ]
  },
  {
   "cell_type": "code",
   "execution_count": null,
   "metadata": {},
   "outputs": [],
   "source": [
    "fig, ax = plt.subplots()\n",
    "ax.scatter(x[0, set1], x[1, set1], c=\"red\")\n",
    "ax.scatter(x[0, set2], x[1, set2], alpha=0.2)\n",
    "ax.set_aspect(\"equal\")\n",
    "ax.set_xlabel(\"x\")\n",
    "ax.set_ylabel(\"y\")\n",
    "ax.spines[\"top\"].set_visible(False)\n",
    "ax.spines[\"right\"].set_visible(False)\n",
    "ax.set_title(\"Raw Data\")"
   ]
  },
  {
   "cell_type": "markdown",
   "metadata": {},
   "source": [
    "Note that the first step in any form of decorrolation and preprocessing requires us to demean the dataset. Complete the following line of code to demean the data."
   ]
  },
  {
   "cell_type": "code",
   "execution_count": null,
   "metadata": {},
   "outputs": [],
   "source": [
    "## Code Here ##\n",
    "x = "
   ]
  },
  {
   "cell_type": "markdown",
   "metadata": {},
   "source": [
    "Now that you have the zero-mean data, you should be able to decorrolate the data using the SVD. Hint: np.linalg.svd might be helpful here."
   ]
  },
  {
   "cell_type": "code",
   "execution_count": null,
   "metadata": {},
   "outputs": [],
   "source": [
    "## Code Here ##\n",
    "x_decorrolated = \n",
    "\n",
    "fig, ax = plt.subplots()\n",
    "ax.scatter(x_decorrolated[0, set1], x_decorrolated[1, set1], c=\"red\")\n",
    "ax.scatter(x_decorrolated[0, set2], x_decorrolated[1, set2], alpha=0.2)\n",
    "ax.set_aspect(\"equal\")\n",
    "ax.set_xlabel(\"x\")\n",
    "ax.set_ylabel(\"y\")\n",
    "ax.spines[\"top\"].set_visible(False)\n",
    "ax.spines[\"right\"].set_visible(False)\n",
    "ax.set_title(\"Decorrolated Data\")"
   ]
  },
  {
   "cell_type": "markdown",
   "metadata": {},
   "source": [
    "You might notice that when we decorrolated the data, the direction that the indicated data points went in rotated. Can you justify why this transformation on the data matrix caused this rotation of the matrix?"
   ]
  },
  {
   "cell_type": "markdown",
   "metadata": {},
   "source": [
    "## Student solution here ##\n"
   ]
  },
  {
   "cell_type": "markdown",
   "metadata": {},
   "source": [
    "Now that we have decorrolated the data, apply the proper transformation to PCA whiten the data. \n",
    "Note: due to the numerical stability of the SVD, we are afraid that this might exacerbate the variance of the data due to the numerical instability. Thus, instead of directly dividing by $1/\\sigma_i$, we will add a small epsilon to the singular values to regularize the expression. "
   ]
  },
  {
   "cell_type": "code",
   "execution_count": null,
   "metadata": {},
   "outputs": [],
   "source": [
    "epsilon = 1e-5\n",
    "## Code Here ##\n",
    "x_pca = \n",
    "                \n",
    "fig, ax = plt.subplots()\n",
    "ax.scatter(x_pca [0, set1], x_pca [1, set1], c=\"red\")\n",
    "ax.scatter(x_pca [0, set2], x_pca [1, set2], alpha=0.2)\n",
    "ax.set_aspect(\"equal\")\n",
    "ax.set_xlabel(\"x\")\n",
    "ax.set_ylabel(\"y\")\n",
    "ax.spines[\"top\"].set_visible(False)\n",
    "ax.spines[\"right\"].set_visible(False)\n",
    "ax.set_title(\"PCA whitened Data\")"
   ]
  },
  {
   "cell_type": "markdown",
   "metadata": {},
   "source": [
    "Now, we can see that whitening the data did indeed transform the data into a nice circular blob. However, we might have issue with the fact that the data points were rotated. Now, apply the proper rotation matrix to the data to make the transformation the ZCA transformation"
   ]
  },
  {
   "cell_type": "code",
   "execution_count": null,
   "metadata": {},
   "outputs": [],
   "source": [
    "## Code Here ##\n",
    "x_zca = \n",
    "fig, ax = plt.subplots()\n",
    "ax.scatter(x_zca[0, set1], x_zca [1, set1], c=\"red\")\n",
    "ax.scatter(x_zca[0, set2], x_zca [1, set2], alpha=0.2)\n",
    "ax.set_aspect(\"equal\")\n",
    "ax.set_xlabel(\"x\")\n",
    "ax.set_ylabel(\"y\")\n",
    "ax.spines[\"top\"].set_visible(False)\n",
    "ax.spines[\"right\"].set_visible(False)\n",
    "ax.set_title(\"ZCA whitened Data\")"
   ]
  },
  {
   "cell_type": "markdown",
   "metadata": {},
   "source": [
    "We now see that we have whitened the dataset, and the notes and slides give a good explination for why whitening would help your algorithm learn on the data. However, can you think of any reason not to whiten your data?"
   ]
  },
  {
   "cell_type": "markdown",
   "metadata": {},
   "source": [
    "## Student solution here ##\n"
   ]
  },
  {
   "cell_type": "markdown",
   "metadata": {},
   "source": [
    "# Whitening Images with Cifar10 #\n",
    "\n",
    "Instead of whitening raw datapoints, let us see what whitening does to images. We will be using cifar10 as our dataset."
   ]
  },
  {
   "cell_type": "code",
   "execution_count": null,
   "metadata": {},
   "outputs": [],
   "source": [
    "import tensorflow\n",
    "from keras.datasets import cifar10\n",
    "\n",
    "(X_train, y_train), (X_test, y_test) = cifar10.load_data()"
   ]
  },
  {
   "cell_type": "code",
   "execution_count": null,
   "metadata": {},
   "outputs": [],
   "source": [
    "X = X_train[:1000]\n",
    "X = X.reshape(X.shape[0], X.shape[1]*X.shape[2]*X.shape[3])\n",
    "X.shape"
   ]
  },
  {
   "cell_type": "markdown",
   "metadata": {},
   "source": [
    "This is just a helper function here to visualize the images in the dataset."
   ]
  },
  {
   "cell_type": "code",
   "execution_count": null,
   "metadata": {},
   "outputs": [],
   "source": [
    "def show_image(X, i):\n",
    "    plt.figure()\n",
    "    plt.imshow(X[i].reshape(32, 32, 3))\n",
    "    plt.show()\n",
    "    plt.close()"
   ]
  },
  {
   "cell_type": "code",
   "execution_count": null,
   "metadata": {},
   "outputs": [],
   "source": [
    "show_image(X, (int)(random.random() * X.shape[0]))"
   ]
  },
  {
   "cell_type": "markdown",
   "metadata": {},
   "source": [
    "We need to first normalize and demean our data."
   ]
  },
  {
   "cell_type": "code",
   "execution_count": null,
   "metadata": {},
   "outputs": [],
   "source": [
    "## Code Here ##\n",
    "X_zero = "
   ]
  },
  {
   "cell_type": "markdown",
   "metadata": {},
   "source": [
    "Implement the ZCA whitening transformation on the image dataset. Note that in order to show the dataset with show_image, we need to normalize the data again. Note that the maximum value and the minimum values will not just be 0 and 255 anymore "
   ]
  },
  {
   "cell_type": "code",
   "execution_count": null,
   "metadata": {},
   "outputs": [],
   "source": [
    "epsilon = 1e-5\n",
    "## Code Here ##\n",
    "XZ = "
   ]
  },
  {
   "cell_type": "code",
   "execution_count": null,
   "metadata": {},
   "outputs": [],
   "source": [
    "show_image(XZ, (int)(random.random() * X.shape[0]))"
   ]
  },
  {
   "cell_type": "markdown",
   "metadata": {},
   "source": [
    "Now, let us try and visualize multiple images before and after zca whitening and answer the following question about the visualization"
   ]
  },
  {
   "cell_type": "code",
   "execution_count": null,
   "metadata": {},
   "outputs": [],
   "source": [
    "i = (int)(random.random() * X.shape[0])\n",
    "show_image(X, i)\n",
    "show_image(XZ,i)"
   ]
  },
  {
   "cell_type": "markdown",
   "metadata": {},
   "source": [
    "Try rerunning the cell above to see how each of the images change after whitening; how do you think whitening could help an algorithm identify objects."
   ]
  },
  {
   "cell_type": "markdown",
   "metadata": {},
   "source": [
    "## Student Answer Here ##"
   ]
  },
  {
   "cell_type": "code",
   "execution_count": null,
   "metadata": {},
   "outputs": [],
   "source": []
  }
 ],
 "metadata": {
  "kernelspec": {
   "display_name": "Python 3",
   "language": "python",
   "name": "python3"
  },
  "language_info": {
   "codemirror_mode": {
    "name": "ipython",
    "version": 3
   },
   "file_extension": ".py",
   "mimetype": "text/x-python",
   "name": "python",
   "nbconvert_exporter": "python",
   "pygments_lexer": "ipython3",
   "version": "3.6.5"
  }
 },
 "nbformat": 4,
 "nbformat_minor": 2
}
