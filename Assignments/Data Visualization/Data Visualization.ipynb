{
 "cells": [
  {
   "cell_type": "markdown",
   "metadata": {},
   "source": [
    "# Data Visualization\n",
    "\n",
    "This assignment walks through the conceptual ideas behind data visualizations, as well as how to create them with Matplotlib and Seaborn."
   ]
  },
  {
   "cell_type": "markdown",
   "metadata": {},
   "source": [
    "First, we import some libraries and load some datasets.  "
   ]
  },
  {
   "cell_type": "code",
   "execution_count": null,
   "metadata": {},
   "outputs": [],
   "source": [
    "import seaborn as sns\n",
    "import matplotlib.pyplot as plt\n",
    "import numpy as np\n",
    "\n",
    "sns.set()"
   ]
  },
  {
   "cell_type": "code",
   "execution_count": null,
   "metadata": {},
   "outputs": [],
   "source": [
    "car_crashes = sns.load_dataset(\"car_crashes\")\n",
    "titanic = sns.load_dataset(\"titanic\")\n",
    "diamonds = sns.load_dataset(\"diamonds\")\n",
    "iris = sns.load_dataset(\"iris\")\n",
    "fmri = sns.load_dataset(\"fmri\")"
   ]
  },
  {
   "cell_type": "markdown",
   "metadata": {},
   "source": [
    "### Using the Appropriate Visualization\n",
    "\n",
    "This assignment will cover these five basic visualizations: \n",
    "1. Bar Charts\n",
    "2. Multi-level Bar Charts\n",
    "3. Histograms\n",
    "4. Scatter Plots\n",
    "5. Line Charts\n",
    "\n",
    "If you need a refresher on these visualizations, be sure to refer to the [slides]() or the [notes](). "
   ]
  },
  {
   "cell_type": "markdown",
   "metadata": {},
   "source": [
    "Of the five visualizations presented, which ones are appropriate for categorical variables? How many categorical variables does each visualization allow for? Justify why each visualization is appropriate. \n",
    "\n",
    "**STUDENT SOLUTION HERE**"
   ]
  },
  {
   "cell_type": "markdown",
   "metadata": {},
   "source": [
    "Of the five visualizations presented, which ones are appropriate for quantitative variables? How many quantitative variables does each visualization allow for? Justify why each visualization is appropriate. \n",
    "\n",
    "**STUDENT SOLUTION HERE**"
   ]
  },
  {
   "cell_type": "markdown",
   "metadata": {},
   "source": [
    "### Good Visualization Practices\n",
    "\n",
    "What makes a good visualization? The intuitive answer is that they are easy to read and can quickly offer clear and accurate information. Each of the following visualizations below is problematic; find what the issue is and explain how to fix it. "
   ]
  },
  {
   "cell_type": "code",
   "execution_count": null,
   "metadata": {},
   "outputs": [],
   "source": [
    "sns.scatterplot(\n",
    "    data = car_crashes,\n",
    "    x = \"speeding\",\n",
    "    y = \"alcohol\"\n",
    ")\n",
    "plt.show()"
   ]
  },
  {
   "cell_type": "markdown",
   "metadata": {},
   "source": [
    "What's wrong with the above visualization? \n",
    "\n",
    "**STUDENT SOLUTION HERE**"
   ]
  },
  {
   "cell_type": "code",
   "execution_count": null,
   "metadata": {},
   "outputs": [],
   "source": [
    "sns.histplot(\n",
    "    data = titanic, \n",
    "    x = \"fare\"\n",
    ")\n",
    "plt.title(\"Distribution of Passenger Fares\")\n",
    "plt.xlabel(\"Fare ($)\")\n",
    "plt.show()"
   ]
  },
  {
   "cell_type": "markdown",
   "metadata": {},
   "source": [
    "What's wrong with the above visualization? \n",
    "\n",
    "**STUDENT SOLUTION HERE**"
   ]
  },
  {
   "cell_type": "code",
   "execution_count": null,
   "metadata": {},
   "outputs": [],
   "source": [
    "sns.scatterplot(\n",
    "    data = diamonds, \n",
    "    x = \"price\",\n",
    "    y = \"depth\"\n",
    ")\n",
    "plt.title(\"Price vs. Depth\")\n",
    "plt.show()"
   ]
  },
  {
   "cell_type": "markdown",
   "metadata": {},
   "source": [
    "What's wrong with the above visualization? \n",
    "\n",
    "**STUDENT SOLUTION HERE**"
   ]
  },
  {
   "cell_type": "code",
   "execution_count": null,
   "metadata": {},
   "outputs": [],
   "source": [
    "plot = sns.countplot(\n",
    "    data = iris, \n",
    "    x = \"petal_width\"\n",
    ")\n",
    "for item in plot.get_xticklabels():\n",
    "    item.set_rotation(45)\n",
    "plt.xlabel(\"Petal width (cm)\")\n",
    "plt.title(\"Distribution of petal widths\")\n",
    "plt.show()"
   ]
  },
  {
   "cell_type": "markdown",
   "metadata": {},
   "source": [
    "What's wrong with the above visualization? \n",
    "\n",
    "**STUDNET SOLUTION HERE**"
   ]
  },
  {
   "cell_type": "markdown",
   "metadata": {},
   "source": [
    "### Creating Visualizations with Seaborn\n",
    "\n",
    "Now that you know when to use what kind of visualization, as well as common pitfalls to avoid, you can now create your own visualizations! Use Seaborn and Matplotlib to generate the graphs described by the prompts. Make sure to include the appropriate axis labels and chart titles as well. "
   ]
  },
  {
   "cell_type": "markdown",
   "metadata": {},
   "source": [
    "Create a multi-level bar chart of counts `titanic` dataset, where the first level is the passenger's class and the second level (specified by color) is the town the passenger embarked from. \n",
    "\n",
    "*Hint: You may find the \"hue\" argument useful in seaborn functions.*"
   ]
  },
  {
   "cell_type": "code",
   "execution_count": null,
   "metadata": {},
   "outputs": [],
   "source": [
    "# BEGIN STUDENT SOLUTION\n",
    "\n",
    "# END STUDENT SOLUTION \n",
    "\n",
    "plt.show()"
   ]
  },
  {
   "cell_type": "markdown",
   "metadata": {},
   "source": [
    "Create a line plot for the `fmri` dataset, where signal is plotted against the timepoints. Create one line for each distinct region. The unit for timepoint is in seconds, and it's fine to exclude the units for signal (the signal has a complicated interpretation that requires reading a comprehensive paper to understand). "
   ]
  },
  {
   "cell_type": "code",
   "execution_count": null,
   "metadata": {},
   "outputs": [],
   "source": [
    "# BEGIN STUDENT SOLUTION\n",
    "\n",
    "# END STUDENT SOLUTION \n",
    "\n",
    "plt.show()"
   ]
  },
  {
   "cell_type": "markdown",
   "metadata": {},
   "source": [
    "Fix the histogram of the `titanic` passenger fares shown in the previous section. Set the range of the x axis for the fares to be from 0 to 150. \n",
    "\n",
    "*Hint: You can specify bins in the Seaborn function, or manually change the x axis using Matplotlib.*"
   ]
  },
  {
   "cell_type": "code",
   "execution_count": null,
   "metadata": {},
   "outputs": [],
   "source": [
    "# BEGIN STUDENT SOLUTION\n",
    "\n",
    "# END STUDENT SOLUTION \n",
    "\n",
    "plt.show()"
   ]
  },
  {
   "cell_type": "markdown",
   "metadata": {},
   "source": [
    "Fix the scatter plot of the `diamonds` dataset shown in the previous section. Use a hex plot of the data instead of a scatter plot.\n",
    "\n",
    "*Hint: You may find `sns.jointplot` useful.*"
   ]
  },
  {
   "cell_type": "code",
   "execution_count": null,
   "metadata": {},
   "outputs": [],
   "source": [
    "# BEGIN STUDENT SOLUTION\n",
    "\n",
    "# END STUDENT SOLUTION \n",
    "\n",
    "plt.show()"
   ]
  }
 ],
 "metadata": {
  "kernelspec": {
   "display_name": "Python 3",
   "language": "python",
   "name": "python3"
  },
  "language_info": {
   "codemirror_mode": {
    "name": "ipython",
    "version": 3
   },
   "file_extension": ".py",
   "mimetype": "text/x-python",
   "name": "python",
   "nbconvert_exporter": "python",
   "pygments_lexer": "ipython3",
   "version": "3.7.9"
  }
 },
 "nbformat": 4,
 "nbformat_minor": 4
}
